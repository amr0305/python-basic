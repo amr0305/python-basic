{
  "nbformat": 4,
  "nbformat_minor": 0,
  "metadata": {
    "colab": {
      "provenance": [],
      "toc_visible": true
    },
    "kernelspec": {
      "name": "python3",
      "display_name": "Python 3"
    },
    "language_info": {
      "name": "python"
    }
  },
  "cells": [
    {
      "cell_type": "markdown",
      "source": [
        "SECTION:1 -Python Basic Question"
      ],
      "metadata": {
        "id": "Jikgxe5V7fMS"
      }
    },
    {
      "cell_type": "markdown",
      "source": [
        "### **Q.1 What is Python, and why is it popular?**\n",
        "\n",
        "Ans:  \n",
        "*Python is a **high-level**, **interpreted programming language**\n",
        "known  for its simplicity and readability* .\n",
        "\n",
        "It was created by **Guido van Rossum** and released in **1991**.\n",
        "\n",
        "Python is *used for* a *variety of purpose*s, such as web development, **data analysis**, artificial intelligence, machine learning, automation, and much more.*\n",
        "\n",
        " **Python is popular because:**\n",
        "\n",
        "-   **Easy to Learn**: Its simple and readable syntax makes it great for beginners.\n",
        "\n",
        "-   **Versatile**: It’s used in many fields like web development, data science, AI, automation, and more.\n",
        "\n",
        "-   **Large Community**: A huge number of resources, libraries, and frameworks are available.\n",
        "\n",
        "-   **Cross-Platform**: Python runs on multiple operating systems without modification.\n",
        "\n",
        "-   **High Demand**: It’s widely used in the industry, creating lots of job opportunities\n"
      ],
      "metadata": {
        "id": "IyMn4Xch7UkW"
      }
    },
    {
      "cell_type": "markdown",
      "source": [
        "### **Q.2 What is an interpreter in Python**\n",
        "\n",
        "Ans:\n",
        "An interpreter in Python is a *program* that **reads** and **executes** Python *code line by line.*\n",
        "\n",
        "It translates the **high-level Python code**  into **machine-readable instructions** and *runs them immediately*, without the need for a separate compilation step.\n",
        "\n",
        "This makes it **easy to test and debug code** interactively.\n"
      ],
      "metadata": {
        "id": "vDKZ77oDwin3"
      }
    },
    {
      "cell_type": "markdown",
      "source": [
        "### **Q.3 What are pre-defined keywords in Python**\n",
        "\n",
        "Ans:\n",
        "\n",
        "- Predefined keywords in python are the special words, which have its specific role, which control and manage the flow of the program.\n",
        "\n",
        "- Keywords are used to define the syntax of the coding. The keyword cannot be used as an identifier,function, or variable name.\n",
        "\n",
        "- All the keywords in Python are written in lowercase except True and False.\n",
        "\n",
        "- In Python, there is an inbuilt keyword module that provides an iskeyword() function that can be used to check whether a given string is a valid keyword or not.\n",
        "\n",
        "- Furthermore, we can check the name of the keywords in Python by using the kwlist attribute of the keyword module.\n",
        "\n",
        "- keywords contains meaning and functionality and these word cannot be used in vairables\n",
        "\n",
        "- These keywords cannot be used as variable names, function names, or identifiers\n",
        "\n",
        "\n",
        "I don't rember all of them but some of them you will encounter more frequently than others.\n",
        "\n",
        "**Control flow keyword**s: if, else, elif, for, while, break, continue\n",
        "\n",
        "**Exception handling:** try, except, finally\n",
        "\n",
        "**Boolean logic:** True, False, None, and, or, not\n",
        "\n",
        "**Function and class definitions:** def, class, return\n"
      ],
      "metadata": {
        "id": "K8p3DznZw0pz"
      }
    },
    {
      "cell_type": "markdown",
      "source": [
        "###  **Q.4 Can keywords be used as variable names**\n",
        "\n",
        "Ans:\n",
        "\n",
        "**No** ,\n",
        "*keywords* cannot be used as variable names in Python.\n",
        "\n",
        "Keywords are reserved words that have predefined meanings in the language and are part of its syntax.\n",
        "\n",
        "Using them as variable names will result in a **syntax error**."
      ],
      "metadata": {
        "id": "X2i1PG6vyU3W"
      }
    },
    {
      "cell_type": "code",
      "source": [
        "#Example:\n",
        "if = 10  # This will raise a syntax error"
      ],
      "metadata": {
        "id": "X33LA2D1zaGY"
      },
      "execution_count": null,
      "outputs": []
    },
    {
      "cell_type": "markdown",
      "source": [
        "###  **Q.5 What is mutability in Python**\n",
        "\n",
        "Ans:\n",
        "\n",
        "**Mutability** in Python refers to the *ability* of an object to be **changed after it is created**.\n",
        "\n",
        "- **Mutable objects**: Objects whose state or value *can be modified* after creation. Examples: lists, dictionaries, sets.\n",
        "\n",
        "- **Immutable objects**: Objects whose state or value *cannot be* *changed* after creation. Examples: integers, strings, tuples.\n",
        "# Mutable example (list)\n",
        "my_list = [1, 2, 3]\n",
        "my_list[0] = 10  # Modifying the list\n",
        "print(my_list)  # Output: [10, 2, 3]\n",
        "\n",
        "# Immutable example (string)\n",
        "my_string = \"hello\"\n",
        "# This will create a new string instead of modifying the original one\n",
        "my_string = \"world\"  # Reassigning to a new string\n",
        "print(my_string)  # Output: world\n",
        "[10, 2, 3]\n",
        "world"
      ],
      "metadata": {
        "id": "cuYlFZmByn8a"
      }
    },
    {
      "cell_type": "code",
      "source": [],
      "metadata": {
        "id": "_M2d_8Po2qYm"
      },
      "execution_count": null,
      "outputs": []
    },
    {
      "cell_type": "markdown",
      "source": [
        "###  **Q.6 Why are lists mutable, but tuples are immutable**\n",
        "\n",
        "Ans:\n",
        "\n",
        "*Lists are mutable*, *while tuples are immutable*, due to the design choices in Python to provide different behaviors for these data structures.\n",
        "\n",
        "***Reasons***:\n",
        "\n",
        "\n",
        "**Purpose & Use Cases:**\n",
        "\n",
        "Lists: Lists are designed to be mutable because they are typically used when you need a collection of items that can change over time (e.g., adding, removing, or updating elements).\n",
        "\n",
        "Tuples: Tuples are designed to be immutable because they are used for fixed, unchangeable collections of items. This is useful when you need to ensure that the data cannot be modified, making tuples more secure and hashable (e.g., for use as dictionary keys).\n",
        "\n",
        "\n",
        "**Performance**:\n",
        "\n",
        "Lists: Mutability makes lists flexible but also slightly slower when compared to tuples, especially in terms of memory management and operations like copying.\n",
        "\n",
        "Tuples: Since tuples are immutable, their elements cannot be changed. This makes them faster and more memory-efficient than lists.\n",
        "\n",
        "\n",
        "**Hashability:**\n",
        "\n",
        "Tuples: Because tuples are immutable, they can be used as keys in dictionaries and elements in sets, which require the objects to be hashable (i.e., they cannot be changed once created).\n",
        "Lists: Lists are mutable, so they cannot be used as dictionary keys or set elements because their contents can change, leading to unpredictable behavior."
      ],
      "metadata": {
        "id": "c3k_Vh9b08Zy"
      }
    },
    {
      "cell_type": "markdown",
      "source": [
        "###  **Q.7 What is the difference between “==” and “is” operators in Python**\n",
        "\n",
        "Ans: In Python, both == and is are used for comparison, but they serve different purposes:\n",
        "\n",
        "**== (Equality Operator)**: Compares the* values* of two objects to check if they are **equal**.\n",
        "\n",
        "**is (Identity Operator)**: Compares the *memory addresses* of two objects to check if they are the **same** object in memory\n"
      ],
      "metadata": {
        "id": "wPAbB6Fi1ued"
      }
    },
    {
      "cell_type": "code",
      "source": [
        "'''\n",
        "== (Equality Operator):\n",
        "Compares the values of two objects to see if they are equal.\n",
        "It checks if the contents of two objects are the same, regardless of whether they are the same object in memory.\n",
        "Example:\n",
        "'''\n",
        "\n",
        "a = [1, 2, 3]\n",
        "b = [1, 2, 3]\n",
        "print(a == b)  # Output: True (they have the same value\n"
      ],
      "metadata": {
        "colab": {
          "base_uri": "https://localhost:8080/"
        },
        "id": "K8fU7Iga1yYr",
        "outputId": "cb7e5625-67ff-4f7f-a204-6aa023aaf41b"
      },
      "execution_count": null,
      "outputs": [
        {
          "output_type": "stream",
          "name": "stdout",
          "text": [
            "True\n"
          ]
        }
      ]
    },
    {
      "cell_type": "code",
      "source": [
        "'''\n",
        "is (Identity Operator):\n",
        "\n",
        "Compares the memory addresses of two objects to see if they are the same object in memory.\n",
        "It checks if both references point to the exact same object.\n",
        "Example:\n",
        "'''\n",
        "\n",
        "a = [1, 2, 3]\n",
        "b = [1, 2, 3]\n",
        "print(a is b)  # Output: False (they are different objects in memory)"
      ],
      "metadata": {
        "colab": {
          "base_uri": "https://localhost:8080/"
        },
        "id": "5mJVA62p2XWn",
        "outputId": "ba853e7a-b1e7-403a-dcec-ecb7184b9965"
      },
      "execution_count": null,
      "outputs": [
        {
          "output_type": "stream",
          "name": "stdout",
          "text": [
            "False\n"
          ]
        }
      ]
    },
    {
      "cell_type": "markdown",
      "source": [
        "### **Q.8 What are logical operators in Python**\n",
        "\n",
        "Ans:\n",
        "\n",
        "Logical Operators:are used to combine conditional statements and perform logical operations.\n",
        "They allow you to make decisions based on multiple conditions by using the (and, or, not) operator.\n"
      ],
      "metadata": {
        "id": "jlaEJQ_g3WPc"
      }
    },
    {
      "cell_type": "code",
      "source": [
        "'''\n",
        "and (logical and) :\n",
        "    Returns True if both conditions are true.\n",
        "'''\n",
        "\n",
        "x = 5\n",
        "y = 10\n",
        "if x > 3 and y < 15:\n",
        "    print(\"Both x and y are within the specified range\")\n"
      ],
      "metadata": {
        "colab": {
          "base_uri": "https://localhost:8080/"
        },
        "id": "dczw7sMq3f9z",
        "outputId": "74b53761-a85f-423d-cc20-a5d64b18b43a"
      },
      "execution_count": null,
      "outputs": [
        {
          "output_type": "stream",
          "name": "stdout",
          "text": [
            "Both x and y are within the specified range\n"
          ]
        }
      ]
    },
    {
      "cell_type": "code",
      "source": [
        "'''\n",
        "or (logical or) :\n",
        "    Returns True if at least one of the conditions is true.\n",
        "'''\n",
        "x = 5\n",
        "y = 20\n",
        "if x > 3 or y < 15:\n",
        "    print(\"At least one of x or y is within the specified range\")"
      ],
      "metadata": {
        "colab": {
          "base_uri": "https://localhost:8080/"
        },
        "id": "DpBEL7yw3r8x",
        "outputId": "c4212129-dbe8-46cd-bf88-960bc43013ce"
      },
      "execution_count": null,
      "outputs": [
        {
          "output_type": "stream",
          "name": "stdout",
          "text": [
            "At least one of x or y is within the specified range\n"
          ]
        }
      ]
    },
    {
      "cell_type": "code",
      "source": [
        "'''\n",
        "not (logical not) :\n",
        "Reverses the result of the condition. Returns True if the condition is false,\n",
        "and False if the condition is true.'''\n",
        "x = 5\n",
        "if not(x > 10):\n",
        "    print(\"x is not greater than 10\")"
      ],
      "metadata": {
        "colab": {
          "base_uri": "https://localhost:8080/"
        },
        "id": "KzgH-qKt30U7",
        "outputId": "69be18ee-2042-433b-bd83-c877e2486657"
      },
      "execution_count": null,
      "outputs": [
        {
          "output_type": "stream",
          "name": "stdout",
          "text": [
            "x is not greater than 10\n"
          ]
        }
      ]
    },
    {
      "cell_type": "markdown",
      "source": [
        "### **Q.9 What is type casting in Python**\n",
        "\n",
        "Ans:\n",
        "\n",
        "- Type Casting is the method to convert the Python variable datatype into a certain data type in order to perform\n",
        "\n",
        "- the required operation by users. In this article, we will see the various techniques for typecasting.\n",
        "\n",
        "- There can be two types of Type Casting in Python:\n",
        "\n",
        "    -   1 Python **Implicit** Type Conversion\n",
        "    -   2 Python **Explicit** Type Conversion"
      ],
      "metadata": {
        "id": "5WSgngH73_yi"
      }
    },
    {
      "cell_type": "markdown",
      "source": [
        "### **Q.10 What is the difference between implicit and explicit type casting**\n",
        "\n",
        "Ans:\n",
        "# implicit type Casting\n",
        "'''\n",
        "Python automatically converts one data type to another when needed,\n",
        "without requiring the user to explicitly do it.\n",
        "This happens when a smaller data type is assigned to a larger data type.\n",
        "'''\n"
      ],
      "metadata": {
        "id": "rNz14mdn4NGL"
      }
    },
    {
      "cell_type": "code",
      "source": [
        "x = 5       # Integer\n",
        "y = 2.5     # Float\n",
        "result = x + y  # Implicitly converts x (int) to float\n",
        "print(result)  # Output: 7.5"
      ],
      "metadata": {
        "colab": {
          "base_uri": "https://localhost:8080/"
        },
        "id": "qHN2Nbwc4hXv",
        "outputId": "e2d1a41b-b65d-42ed-a8b3-61dabe4de6e1"
      },
      "execution_count": null,
      "outputs": [
        {
          "output_type": "stream",
          "name": "stdout",
          "text": [
            "7.5\n"
          ]
        }
      ]
    },
    {
      "cell_type": "code",
      "source": [
        "# explicit type Casting\n",
        "'''\n",
        "Python allows you to explicitly convert one data type to another using built-in functions.\n",
        " These functions include:\n",
        "    int(): Converts a value to an integer.\n",
        "    float(): Converts a value to a float.\n",
        "    str(): Converts a value to a string.\n",
        "    list(): Converts a value to a list.\n",
        "    tuple(): Converts a value to a tuple.\n",
        "'''\n",
        "\n",
        "# Converting a string to an integer\n",
        "str_value = \"123\"\n",
        "int_value = int(str_value)\n",
        "print(int_value)  # Output: 123 (as an integer)\n",
        "\n",
        "# Converting a float to an integer (explicit casting)\n",
        "float_value = 7.9\n",
        "int_value = int(float_value)\n",
        "print(int_value)  # Output: 7 (fractional part is truncated)"
      ],
      "metadata": {
        "colab": {
          "base_uri": "https://localhost:8080/"
        },
        "id": "YL_Vwh884rdd",
        "outputId": "d842497a-0715-40ae-ad90-fafa401f0109"
      },
      "execution_count": null,
      "outputs": [
        {
          "output_type": "stream",
          "name": "stdout",
          "text": [
            "123\n",
            "7\n"
          ]
        }
      ]
    },
    {
      "cell_type": "markdown",
      "source": [
        "### **Q.11 What is the purpose of conditional statements in Python**\n",
        "\n",
        "Ans:\n",
        "\n",
        "The purpose of conditional statements in Python is to allow the program to make decisions and execute specific blocks of code based on whether certain conditions are True or False.\n",
        "\n",
        "Types of Conditional Statements:\n",
        "\n",
        "if Statement:\n",
        "\n",
        "The if statement is used to test a condition. If the condition is True, the code inside the if block is executed.\n",
        "\n",
        "else Statement:\n",
        "\n",
        "The else statement is used to execute a block of code if the condition in the if statement is False.\n",
        "\n",
        "elif Statement:\n",
        "\n",
        "The elif (short for \"else if\") statement is used to test multiple conditions. It allows you to check multiple conditions if the if condition is False.\n",
        "\n",
        "Purpose of Conditional Statements:\n",
        "\n",
        "**Control Flow**: They determine the flow of execution by allowing the program to make decisions based on conditions.\n",
        "\n",
        "Branching Logic: Conditional statements help implement logic where different actions are performed based on different conditions (e.g., checking if a number is positive, negative, or zero).\n",
        "\n",
        "Decision Making: They allow the program to choose between two or more possible actions, making it more dynamic and flexible."
      ],
      "metadata": {
        "id": "G4MYLcRX47Kk"
      }
    },
    {
      "cell_type": "code",
      "source": [
        "'''\n",
        "if Statement:\n",
        "\n",
        "The if statement is used to test a condition.\n",
        " If the condition is True, the code inside the if block is executed.\n",
        "'''\n",
        "x = 10\n",
        "if x > 5:\n",
        "    print(\"x is greater than 5\")\n",
        "'''\n",
        "else Statement:\n",
        "\n",
        "The else statement is used to execute a block of code if the condition in the if statement is False.\n",
        "'''\n",
        "x = 3\n",
        "if x > 5:\n",
        "    print(\"x is greater than 5\")\n",
        "else:\n",
        "    print(\"x is not greater than 5\")\n",
        "\n",
        "'''\n",
        "elif Statement:\n",
        "\n",
        "The elif (short for \"else if\") statement is used to test multiple conditions.\n",
        "It allows you to check multiple conditions if the if condition is False.\n",
        "'''\n",
        "x = 8\n",
        "if x > 10:\n",
        "    print(\"x is greater than 10\")\n",
        "elif x > 5:\n",
        "    print(\"x is greater than 5 but less than or equal to 10\")\n",
        "else:\n",
        "    print(\"x is 5 or less\")"
      ],
      "metadata": {
        "colab": {
          "base_uri": "https://localhost:8080/"
        },
        "id": "LE0uFgrX4-SC",
        "outputId": "b6b99429-9d44-44c0-f6ac-82d685219423"
      },
      "execution_count": null,
      "outputs": [
        {
          "output_type": "stream",
          "name": "stdout",
          "text": [
            "x is greater than 5\n",
            "x is not greater than 5\n",
            "x is greater than 5 but less than or equal to 10\n"
          ]
        }
      ]
    },
    {
      "cell_type": "markdown",
      "source": [
        "### **Q.12 How does the elif statement work**\n",
        "\n",
        "Ans:\n",
        "\n",
        "The elif statement in Python stands for \"else if\". It allows you to check multiple conditions in sequence after an initial if statement. If the condition of the if statement is False, Python checks the conditions of each elif in order. If one of the elif conditions is True, the corresponding block of code is executed. If none of the if or elif conditions are True, the else block (if provided) is executed.\n",
        "\n",
        "**How elif works:**\n",
        "\n",
        "\n",
        "First, Python checks the condition in the if statement.\n",
        "\n",
        "If the **if** condition is **True**, the code block under if runs, and the rest of the *elif and else conditions are skipped.*\n",
        "\n",
        "If the **if** condition is **False**, Python checks the *next condition in the elif statement*.\n",
        "\n",
        "If the **elif condition is True**, the code block under elif is executed.\n",
        "\n",
        "*If none of the if or elif conditions are True, the else block (if present) is executed.*\n"
      ],
      "metadata": {
        "id": "i0dXpec45b56"
      }
    },
    {
      "cell_type": "code",
      "source": [
        "x = 15\n",
        "\n",
        "if x > 20:\n",
        "    print(\"x is greater than 20\")\n",
        "elif x > 10:\n",
        "    print(\"x is greater than 10 but less than or equal to 20\")\n",
        "else:\n",
        "    print(\"x is 10 or less\")"
      ],
      "metadata": {
        "colab": {
          "base_uri": "https://localhost:8080/"
        },
        "id": "CALlFQnV5gaa",
        "outputId": "582f4295-3952-4607-81df-4b07e8539e29"
      },
      "execution_count": null,
      "outputs": [
        {
          "output_type": "stream",
          "name": "stdout",
          "text": [
            "x is greater than 10 but less than or equal to 20\n"
          ]
        }
      ]
    },
    {
      "cell_type": "markdown",
      "source": [
        "###  **Q.13 What is the difference between for and while loops**\n",
        "\n",
        "Ans:\n",
        "\n",
        "The difference between for and while loops in Python lies in how they control iteration and when they stop.\n",
        "\n",
        "for loop:\n",
        "\n",
        "-  The for loop is used for iterating over a sequence (like a list, tuple, string, or range).\n",
        "\n",
        "-  It is typically used when the number of iterations is known or predetermined.\n",
        "\n",
        "-  Use case: The for loop is used when the number of iterations is known or when iterating over a collection.\n",
        "\n",
        "- Syntax:\n",
        "```\n",
        "for item in sequence:\n",
        "    # code block\n",
        "```\n",
        "\n",
        "\n",
        "\n",
        "2. while loop:\n",
        "-  The while loop runs as long as a condition is true.\n",
        "- It is typically used when the number of iterations is unknown and depends on a condition.\n",
        "\n",
        "- Use case: The while loop is used when you do not know the number of iterations in advance but want to repeat until a certain condition is met\n",
        "\n",
        "\n",
        "- Syntax:"
      ],
      "metadata": {
        "id": "r1MhlSal5oUI"
      }
    },
    {
      "cell_type": "code",
      "source": [
        "while condition:\n",
        "    # code block\n",
        "```\n",
        "\n",
        "\n",
        "**Key Differences:**\n",
        "\n",
        "- Iteration Mechanism:\n",
        "\n",
        "  -   *for loop*: Iterates over a sequence (like a list, range, etc.).\n",
        "  -   *while loop*: Runs as long as a condition is True.\n",
        "\n",
        "\n",
        "- Use Case:\n",
        "\n",
        "  - *for loop*: Ideal when the number of iterations is known or you want to iterate over a collection.\n",
        "  - *while loop*: Ideal when the number of iterations is not known and the loop needs to run until a specific condition is met.\n"
      ],
      "metadata": {
        "id": "kHrRazIE57qM"
      },
      "execution_count": null,
      "outputs": []
    },
    {
      "cell_type": "code",
      "source": [
        "# Iterating through a list using a for loop\n",
        "fruits = [\"apple\", \"banana\", \"cherry\"]\n",
        "for fruit in fruits:\n",
        "    print(fruit)\n",
        "    # Using a while loop to print numbers from 1 to 5\n",
        "x = 1\n",
        "while x <= 5:\n",
        "    print(x)\n",
        "    x += 1\n"
      ],
      "metadata": {
        "colab": {
          "base_uri": "https://localhost:8080/"
        },
        "id": "bL9fSrcI6MD3",
        "outputId": "22ec5297-9a96-4f10-b469-8e7f68c9984b"
      },
      "execution_count": null,
      "outputs": [
        {
          "output_type": "stream",
          "name": "stdout",
          "text": [
            "apple\n",
            "banana\n",
            "cherry\n",
            "1\n",
            "2\n",
            "3\n",
            "4\n",
            "5\n"
          ]
        }
      ]
    },
    {
      "cell_type": "markdown",
      "source": [
        "###  **Q.14 Describe a scenario where a while loop is more suitable than a for loop.**\n",
        "\n",
        "Ans:\n",
        "\n",
        "A *while loop is more suitable than a for loop* in situations where the *number of iterations is unknown* and\n",
        "*depends on a dynamic condition*\n",
        "that can change during the loop execution.\n",
        "\n",
        "**Scenario: User Input Validation**\n",
        "\n",
        "- Consider a scenario where you want to ask the user for their age.\n",
        "- The user should only enter a valid age (a positive integer).\n",
        "- If the user enters an invalid age (such as a negative number or a non-numeric input), the program should keep asking until a valid input is given.\n",
        "\n",
        "Since you don't know how many attempts it will take for the user to provide valid input, a while loop is more suitable here.\n",
        "\n",
        "**Why while is suitable:**\n",
        "- The number of attempts is unknown.\n",
        "- The loop continues until the condition (a valid age) is met, making it ideal for input validation.\n"
      ],
      "metadata": {
        "id": "tY63g7bu6YVI"
      }
    },
    {
      "cell_type": "code",
      "source": [
        "while True:\n",
        "    try:\n",
        "        age = int(input(\"Enter your age: \"))\n",
        "        if age < 0:\n",
        "            print(\"Please enter a positive age.\")\n",
        "        else:\n",
        "            print(f\"Your age is {age}.\")\n",
        "            break  # Exit the loop once a valid input is entered\n",
        "    except ValueError:\n",
        "        print(\"Invalid input! Please enter a valid number.\")"
      ],
      "metadata": {
        "id": "q0ZYml066iJf"
      },
      "execution_count": null,
      "outputs": []
    },
    {
      "cell_type": "markdown",
      "source": [
        "# Section 2 : Python Practical Questions\n"
      ],
      "metadata": {
        "id": "_yPWQ8QW8RbJ"
      }
    },
    {
      "cell_type": "markdown",
      "source": [
        "**Q.1 Write a Python program to print \"Hello, World!**"
      ],
      "metadata": {
        "id": "qOHJm7q68j6j"
      }
    },
    {
      "cell_type": "code",
      "source": [
        "#Ans:\n",
        "print(\"Hello, World!\")"
      ],
      "metadata": {
        "colab": {
          "base_uri": "https://localhost:8080/"
        },
        "id": "6rBLtjwN8vA9",
        "outputId": "a38438da-3921-4c09-9592-0947ebd83a27"
      },
      "execution_count": null,
      "outputs": [
        {
          "output_type": "stream",
          "name": "stdout",
          "text": [
            "Hello, World!\n"
          ]
        }
      ]
    },
    {
      "cell_type": "markdown",
      "source": [
        "**Q.2  Write a Python program that displays your name and age**"
      ],
      "metadata": {
        "id": "7imXYQGT83Jf"
      }
    },
    {
      "cell_type": "code",
      "source": [
        "#Ans:\n",
        "name = \"Maheshwari Shinde\"\n",
        "age = 27\n",
        "print(\"Hi my name is: \",name, age)"
      ],
      "metadata": {
        "colab": {
          "base_uri": "https://localhost:8080/"
        },
        "id": "9KvJ54vv9Btj",
        "outputId": "f4185cf4-aa88-46dd-b4cb-6071d1d6227c"
      },
      "execution_count": null,
      "outputs": [
        {
          "output_type": "stream",
          "name": "stdout",
          "text": [
            "Hi my name is:  Maheshwari Shinde 27\n"
          ]
        }
      ]
    },
    {
      "cell_type": "code",
      "source": [
        "name = \"Maheshwari Shinde\"\n",
        "age = 27\n",
        "print(f\"My name is {name} and I am {age} years old.\")"
      ],
      "metadata": {
        "colab": {
          "base_uri": "https://localhost:8080/"
        },
        "id": "di_QIJTz9Xrj",
        "outputId": "e51d5dcb-9d09-45a6-c2c8-78c47a558830"
      },
      "execution_count": null,
      "outputs": [
        {
          "output_type": "stream",
          "name": "stdout",
          "text": [
            "My name is Maheshwari Shinde and I am 27 years old.\n"
          ]
        }
      ]
    },
    {
      "cell_type": "markdown",
      "source": [
        "**Q.3 Write code to print all the pre-defined keywords in Python using the keyword library**"
      ],
      "metadata": {
        "id": "AfsKLF7J9eey"
      }
    },
    {
      "cell_type": "code",
      "source": [
        "#Ans_1:\n",
        "help('keywords')"
      ],
      "metadata": {
        "colab": {
          "base_uri": "https://localhost:8080/"
        },
        "id": "NWlsZruT9qNA",
        "outputId": "2b3eb10d-0e67-4ea7-9f22-2b554b50abb2"
      },
      "execution_count": null,
      "outputs": [
        {
          "output_type": "stream",
          "name": "stdout",
          "text": [
            "\n",
            "Here is a list of the Python keywords.  Enter any keyword to get more help.\n",
            "\n",
            "False               class               from                or\n",
            "None                continue            global              pass\n",
            "True                def                 if                  raise\n",
            "and                 del                 import              return\n",
            "as                  elif                in                  try\n",
            "assert              else                is                  while\n",
            "async               except              lambda              with\n",
            "await               finally             nonlocal            yield\n",
            "break               for                 not                 \n",
            "\n"
          ]
        }
      ]
    },
    {
      "cell_type": "code",
      "source": [
        "#Ans_2: keyword in list\n",
        "import keyword\n",
        "print(keyword.kwlist)"
      ],
      "metadata": {
        "colab": {
          "base_uri": "https://localhost:8080/"
        },
        "id": "HPWQgaNR-elm",
        "outputId": "7928eeb9-041a-4e33-90ba-43c7b6290f59"
      },
      "execution_count": null,
      "outputs": [
        {
          "output_type": "stream",
          "name": "stdout",
          "text": [
            "['False', 'None', 'True', 'and', 'as', 'assert', 'async', 'await', 'break', 'class', 'continue', 'def', 'del', 'elif', 'else', 'except', 'finally', 'for', 'from', 'global', 'if', 'import', 'in', 'is', 'lambda', 'nonlocal', 'not', 'or', 'pass', 'raise', 'return', 'try', 'while', 'with', 'yield']\n"
          ]
        }
      ]
    },
    {
      "cell_type": "markdown",
      "source": [
        "**Q.4 Write a program that checks if a given word is a Python keyword**"
      ],
      "metadata": {
        "id": "WcLvz69p-pRw"
      }
    },
    {
      "cell_type": "code",
      "source": [
        "#Ans:\n",
        "import keyword\n",
        "word = input(\"Enter a word: \")\n",
        "if keyword.iskeyword(word):\n",
        "    print(f\"{word} is a Python keyword.\")\n",
        "else:\n",
        "    print(f\"{word} is not a Python keyword.\")\n"
      ],
      "metadata": {
        "colab": {
          "base_uri": "https://localhost:8080/"
        },
        "id": "fhYkL21--xtB",
        "outputId": "54a109ad-3b35-477c-a7e8-9fe8324a3360"
      },
      "execution_count": null,
      "outputs": [
        {
          "output_type": "stream",
          "name": "stdout",
          "text": [
            "Enter a word: print\n",
            "print is not a Python keyword.\n"
          ]
        }
      ]
    },
    {
      "cell_type": "markdown",
      "source": [
        "**Q.5 Create a list and tuple in Python, and demonstrate how attempting to change an element works differently for each**"
      ],
      "metadata": {
        "id": "cAvQ9xHM_LMS"
      }
    },
    {
      "cell_type": "code",
      "source": [
        "#Ans:\n",
        "\n",
        "\n",
        "my_list = [1, 2, 3]# List (mutable)\n",
        "\n",
        "my_tuple = (1, 2, 3)# Tuple (immutable)\n",
        "\n",
        "# List (mutable)\n",
        "my_list = [1, 2, 3]\n",
        "my_list[0] = 10  # Can change elements\n",
        "print(\"Updated List:\", my_list)\n",
        "\n",
        "# Tuple (immutable)\n",
        "my_tuple = (1, 2, 3)\n",
        "try:\n",
        "    my_tuple[0] = 10  # Attempting to change an element will raise an error\n",
        "except TypeError as e:\n",
        "    print(\"Error:\", e)"
      ],
      "metadata": {
        "colab": {
          "base_uri": "https://localhost:8080/"
        },
        "id": "41ZYZQZI_Q7J",
        "outputId": "31cebfdb-a273-4a3a-902f-91043e7ca107"
      },
      "execution_count": null,
      "outputs": [
        {
          "output_type": "stream",
          "name": "stdout",
          "text": [
            "Updated List: [10, 2, 3]\n",
            "Error: 'tuple' object does not support item assignment\n"
          ]
        }
      ]
    },
    {
      "cell_type": "markdown",
      "source": [
        "**Q.6 Write a function to demonstrate the behavior of mutable and immutable arguments**"
      ],
      "metadata": {
        "id": "3annJvbt_beI"
      }
    },
    {
      "cell_type": "code",
      "source": [
        "#Ans:\n",
        "# Function to modify a mutable object (list)\n",
        "def modify_list(lst):\n",
        "    lst.append(4)  # This will modify the original list\n",
        "\n",
        "# Function to modify an immutable object (string)\n",
        "def modify_string(s):\n",
        "    s += \" world\"  # This creates a new string, original remains unchanged\n",
        "\n",
        "# Demonstration with mutable and immutable data types\n",
        "\n",
        "# Mutable (list)\n",
        "my_list = [1, 2, 3]\n",
        "modify_list(my_list)\n",
        "print(\"Modified list:\", my_list)  # Output: [1, 2, 3, 4]\n",
        "\n",
        "# Immutable (string)\n",
        "my_string = \"hello\"\n",
        "modify_string(my_string)\n",
        "print(\"String after function call:\", my_string)  # Output: \"hello\"\n"
      ],
      "metadata": {
        "colab": {
          "base_uri": "https://localhost:8080/"
        },
        "id": "drD3evaR_oE9",
        "outputId": "6b2db0e2-490e-4313-ad70-d9b56398da02"
      },
      "execution_count": null,
      "outputs": [
        {
          "output_type": "stream",
          "name": "stdout",
          "text": [
            "Modified list: [1, 2, 3, 4]\n",
            "String after function call: hello\n"
          ]
        }
      ]
    },
    {
      "cell_type": "markdown",
      "source": [
        "**Q.7  Write a program that performs basic arithmetic operations on two user-input numbers**"
      ],
      "metadata": {
        "id": "9d4G8xIB_wQc"
      }
    },
    {
      "cell_type": "code",
      "source": [
        "num1 = int(input(\"Enter first number: \"))\n",
        "num2 = int(input(\"Enter second number: \"))\n",
        "\n",
        "print(\"Addition:\", num1 + num2)\n",
        "print(\"Subtraction:\", num1 - num2)\n",
        "print(\"Multiplication:\", num1 * num2)\n",
        "print(\"Division:\", num1 / num2 if num2 != 0 else \"Cannot divide by zero\")"
      ],
      "metadata": {
        "colab": {
          "base_uri": "https://localhost:8080/"
        },
        "id": "NLACq7D_AB_Q",
        "outputId": "c0f25362-cef3-413c-f988-db6ac08403c1"
      },
      "execution_count": null,
      "outputs": [
        {
          "output_type": "stream",
          "name": "stdout",
          "text": [
            "Enter first number: 0\n",
            "Enter second number: 1\n",
            "Addition: 1\n",
            "Subtraction: -1\n",
            "Multiplication: 0\n",
            "Division: 0.0\n"
          ]
        }
      ]
    },
    {
      "cell_type": "markdown",
      "source": [
        "**Q.8  Write a program to demonstrate the use of logical operators**"
      ],
      "metadata": {
        "id": "kqsTui-GAokj"
      }
    },
    {
      "cell_type": "code",
      "source": [
        "#Ans:\n",
        "# Example with comparison operators and logical operators (AND, OR, Not)\n",
        "x = 10\n",
        "y = 20\n",
        "\n",
        "# AND operator (both conditions must be true)\n",
        "if x > 5 and y < 30:\n",
        "    print(\"Returns True if both conditions are True\")\n",
        "\n",
        "# OR operator (at least one condition must be true)\n",
        "if x < 5 or y > 15:\n",
        "    print(\"Returns True if at least one condition is True\")\n",
        "\n",
        "# NOT operator (reverses the condition - Returns the opposite of the condition)\n",
        "if not(x > 15):\n",
        "    print(\"x is not greater than 15\")"
      ],
      "metadata": {
        "colab": {
          "base_uri": "https://localhost:8080/"
        },
        "id": "CjdtSBQDAyxs",
        "outputId": "291a4656-4c26-4dfe-fe9b-4480c3e9ba0c"
      },
      "execution_count": null,
      "outputs": [
        {
          "output_type": "stream",
          "name": "stdout",
          "text": [
            "Returns True if both conditions are True\n",
            "Returns True if at least one condition is True\n",
            "x is not greater than 15\n"
          ]
        }
      ]
    },
    {
      "cell_type": "markdown",
      "source": [
        "**Q.9  Write a Python program to convert user input from string to integer, float, and boolean types**"
      ],
      "metadata": {
        "id": "LfL9kfyzA6Zu"
      }
    },
    {
      "cell_type": "code",
      "source": [
        "#Ans:\n",
        "# Get input from the user (input is always a string)\n",
        "user_input = input(\"Enter a value: \")\n",
        "\n",
        "# Convert to integer\n",
        "int_value = int(user_input)  # Convert input to integer\n",
        "print(\"Integer:\", int_value)\n",
        "\n",
        "# Convert to float\n",
        "float_value = float(user_input)  # Convert input to float\n",
        "print(\"Float:\", float_value)\n",
        "\n",
        "# Convert to boolean (empty string is False, non-empty string is True)\n",
        "bool_value = bool(user_input)  # Convert input to boolean\n",
        "print(\"Boolean:\", bool_value)"
      ],
      "metadata": {
        "colab": {
          "base_uri": "https://localhost:8080/"
        },
        "id": "6X0brw8zBFHK",
        "outputId": "ec2b87b5-86d0-4be5-c6ac-9ab8e3dc304d"
      },
      "execution_count": null,
      "outputs": [
        {
          "output_type": "stream",
          "name": "stdout",
          "text": [
            "Enter a value: 0\n",
            "Integer: 0\n",
            "Float: 0.0\n",
            "Boolean: True\n"
          ]
        }
      ]
    },
    {
      "cell_type": "markdown",
      "source": [
        "**Q.10  Write code to demonstrate type casting with list elements**"
      ],
      "metadata": {
        "id": "m1pA8wbTBX0F"
      }
    },
    {
      "cell_type": "code",
      "source": [
        "#Ans:\n",
        "str_list = [\"10\", \"20\", \"30\"]\n",
        "int_list = list(map(int, str_list))\n",
        "print(\"List of integers:\", int_list)"
      ],
      "metadata": {
        "colab": {
          "base_uri": "https://localhost:8080/"
        },
        "id": "iBd1BQY1BaH9",
        "outputId": "62018dbe-3d26-4067-e2dc-38a46afa9990"
      },
      "execution_count": null,
      "outputs": [
        {
          "output_type": "stream",
          "name": "stdout",
          "text": [
            "List of integers: [10, 20, 30]\n"
          ]
        }
      ]
    },
    {
      "cell_type": "markdown",
      "source": [
        "**Q.11 Write a program that checks if a number is positive, negative, or zero**"
      ],
      "metadata": {
        "id": "R-lk4HGJBhGF"
      }
    },
    {
      "cell_type": "code",
      "source": [
        "#Ans:\n",
        "number = float(input(\"Enter a number: \"))\n",
        "\n",
        "if number > 0:\n",
        "    print(\"The number is positive.\")\n",
        "elif number < 0:\n",
        "    print(\"The number is negative.\")\n",
        "else:\n",
        "    print(\"The number is zero.\")\n"
      ],
      "metadata": {
        "colab": {
          "base_uri": "https://localhost:8080/"
        },
        "id": "cJCMOPJQByqk",
        "outputId": "1cfda887-3e3c-4b14-8e7e-61b23840b5f5"
      },
      "execution_count": null,
      "outputs": [
        {
          "output_type": "stream",
          "name": "stdout",
          "text": [
            "Enter a number: 10\n",
            "The number is positive.\n"
          ]
        }
      ]
    },
    {
      "cell_type": "markdown",
      "source": [
        "**Q.12  Write a for loop to print numbers from 1 to 10**"
      ],
      "metadata": {
        "id": "X2q0j_RAB6tW"
      }
    },
    {
      "cell_type": "code",
      "source": [
        "#Ans:\n",
        "for i in range(1, 11):\n",
        "    print(i)"
      ],
      "metadata": {
        "colab": {
          "base_uri": "https://localhost:8080/"
        },
        "id": "mj7PKqD6CDoN",
        "outputId": "9ea13ca6-da92-4f65-f1eb-3a353c862140"
      },
      "execution_count": null,
      "outputs": [
        {
          "output_type": "stream",
          "name": "stdout",
          "text": [
            "1\n",
            "2\n",
            "3\n",
            "4\n",
            "5\n",
            "6\n",
            "7\n",
            "8\n",
            "9\n",
            "10\n"
          ]
        }
      ]
    },
    {
      "cell_type": "markdown",
      "source": [
        "**Q.13  Write a Python program to find the sum of all even numbers between 1 and 50**"
      ],
      "metadata": {
        "id": "WIBHKa1pCK7q"
      }
    },
    {
      "cell_type": "code",
      "source": [
        "#Ans:\n",
        "\n",
        "# Initialize sum variable\n",
        "even_sum = 0\n",
        "\n",
        "# Loop through numbers from 1 to 50\n",
        "for num in range(1, 51):\n",
        "    if num % 2 == 0:\n",
        "        even_sum += num\n",
        "\n",
        "# Print the sum of even numbers\n",
        "print(\"Sum of all even numbers between 1 and 50:\", even_sum)"
      ],
      "metadata": {
        "colab": {
          "base_uri": "https://localhost:8080/"
        },
        "id": "YApt2J4aCUe2",
        "outputId": "bfe6ca1b-a4cb-453f-a88b-7e681a2d8c61"
      },
      "execution_count": null,
      "outputs": [
        {
          "output_type": "stream",
          "name": "stdout",
          "text": [
            "Sum of all even numbers between 1 and 50: 650\n"
          ]
        }
      ]
    },
    {
      "cell_type": "markdown",
      "source": [
        "**Q.14 Write a program to reverse a string using a while loop**"
      ],
      "metadata": {
        "id": "qz5UdV5FCtIC"
      }
    },
    {
      "cell_type": "code",
      "source": [
        "#Ans:\n",
        "string = input(\"Enter a string: \")\n",
        "reversed_string = \"\"\n",
        "i = len(string) - 1\n",
        "\n",
        "while i >= 0:\n",
        "    reversed_string += string[i]\n",
        "    i -= 1\n",
        "\n",
        "print(\"Reversed string:\", reversed_string)"
      ],
      "metadata": {
        "colab": {
          "base_uri": "https://localhost:8080/"
        },
        "id": "pNRnHWK2Cv3z",
        "outputId": "6553f120-d64a-4861-8e0f-3a955df3df51"
      },
      "execution_count": null,
      "outputs": [
        {
          "output_type": "stream",
          "name": "stdout",
          "text": [
            "Enter a string: Amrita\n",
            "Reversed string: atirmA\n"
          ]
        }
      ]
    },
    {
      "cell_type": "markdown",
      "source": [
        "**Q.15 Write a Python program to calculate the factorial of a number provided by the user using a while loop**"
      ],
      "metadata": {
        "id": "r336UYPaC6Zs"
      }
    },
    {
      "cell_type": "code",
      "source": [
        "#Ans:\n",
        "# Get input from the user\n",
        "num = int(input(\"Enter a number to calculate its factorial: \"))\n",
        "\n",
        "# Initialize variables\n",
        "factorial = 1\n",
        "i = 1\n",
        "\n",
        "# Calculate factorial using a while loop\n",
        "while i <= num:\n",
        "    factorial *= i\n",
        "    i += 1\n",
        "\n",
        "print(f\"The factorial of {num} is: {factorial}\")"
      ],
      "metadata": {
        "colab": {
          "base_uri": "https://localhost:8080/"
        },
        "id": "OSoCzv0iDIWo",
        "outputId": "18dc3bed-b696-43b4-f61b-69d7c22aa3da"
      },
      "execution_count": null,
      "outputs": [
        {
          "output_type": "stream",
          "name": "stdout",
          "text": [
            "Enter a number to calculate its factorial: 9\n",
            "The factorial of 9 is: 362880\n"
          ]
        }
      ]
    }
  ]
}